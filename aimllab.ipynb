{
  "nbformat": 4,
  "nbformat_minor": 0,
  "metadata": {
    "colab": {
      "provenance": [],
      "authorship_tag": "ABX9TyNqOFiGjh/UeeCxOhgTj50/",
      "include_colab_link": true
    },
    "kernelspec": {
      "name": "python3",
      "display_name": "Python 3"
    },
    "language_info": {
      "name": "python"
    }
  },
  "cells": [
    {
      "cell_type": "markdown",
      "metadata": {
        "id": "view-in-github",
        "colab_type": "text"
      },
      "source": [
        "<a href=\"https://colab.research.google.com/github/amala678/Assignment-1-and-2/blob/main/aimllab.ipynb\" target=\"_parent\"><img src=\"https://colab.research.google.com/assets/colab-badge.svg\" alt=\"Open In Colab\"/></a>"
      ]
    },
    {
      "cell_type": "markdown",
      "source": [
        "3. A star Algorithm\n"
      ],
      "metadata": {
        "id": "qhYaNRpi8-s-"
      }
    },
    {
      "cell_type": "code",
      "source": [
        "def aStarAlgo(start_node, stop_node):\n",
        "\n",
        "\n",
        "    open_set = set(start_node) # {A}, len{open_set}=1\n",
        "    closed_set = set()\n",
        "    g = {} # store the distance from starting node\n",
        "    parents = {}\n",
        "    g[start_node] = 0\n",
        "    parents[start_node] = start_node # parents['A']='A\"\n",
        "\n",
        "    while len(open_set) > 0 :\n",
        "        n = None\n",
        "\n",
        "        for v in open_set: # v='B'/'F'\n",
        "            if n == None or g[v] + heuristic(v) < g[n] + heuristic(n):\n",
        "                n = v # n='A'\n",
        "\n",
        "        if n == stop_node or Graph_nodes[n] == None:\n",
        "            pass\n",
        "        else:\n",
        "            for (m, weight) in get_neighbors(n):\n",
        "             # nodes 'm' not in first and last set are added to first\n",
        "             # n is set its parent\n",
        "                if m not in open_set and m not in closed_set:\n",
        "                    open_set.add(m)      # m=B weight=6 {'F','B','A'} len{open_set}=2\n",
        "                    parents[m] = n       # parents={'A':A,'B':A} len{parent}=2\n",
        "                    g[m] = g[n] + weight # g={'A':0,'B':6, 'F':3} len{g}=2\n",
        "\n",
        "\n",
        "            #for each node m,compare its distance from start i.e g(m) to the\n",
        "            #from start through n node\n",
        "                else:\n",
        "                    if g[m] > g[n] + weight:\n",
        "                    #update g(m)\n",
        "                        g[m] = g[n] + weight\n",
        "                    #change parent of m to n\n",
        "                        parents[m] = n\n",
        "\n",
        "                    #if m in closed set,remove and add to open\n",
        "                        if m in closed_set:\n",
        "                            closed_set.remove(m)\n",
        "                            open_set.add(m)\n",
        "\n",
        "        if n == None:\n",
        "            print('Path does not exist!')\n",
        "            return None\n",
        "\n",
        "        # if the current node is the stop_node\n",
        "        # then we begin reconstructin the path from it to the start_node\n",
        "        if n == stop_node:\n",
        "            path = []\n",
        "\n",
        "            while parents[n] != n:\n",
        "                path.append(n)\n",
        "                n = parents[n]\n",
        "\n",
        "            path.append(start_node)\n",
        "\n",
        "            path.reverse()\n",
        "\n",
        "            print('Path found: {}'.format(path))\n",
        "            return path\n",
        "\n",
        "\n",
        "        # remove n from the open_list, and add it to closed_list\n",
        "        # because all of his neighbors were inspected\n",
        "        open_set.remove(n)# {'F','B'} len=2\n",
        "        closed_set.add(n) #{A} len=1\n",
        "\n",
        "    print('Path does not exist!')\n",
        "    return None\n",
        "\n",
        "#define fuction to return neighbor and its distance\n",
        "#from the passed node\n",
        "def get_neighbors(v):\n",
        "    if v in Graph_nodes:\n",
        "        return Graph_nodes[v]\n",
        "    else:\n",
        "        return None\n",
        "#for simplicity we ll consider heuristic distances given\n",
        "#and this function returns heuristic distance for all nodes\n",
        "\n",
        "def heuristic(n):\n",
        "    H_dist = {\n",
        "        'A': 10,\n",
        "        'B': 8,\n",
        "        'C': 5,\n",
        "        'D': 7,\n",
        "        'E': 3,\n",
        "        'F': 6,\n",
        "        'G': 5,\n",
        "        'H': 3,\n",
        "        'I': 1,\n",
        "        'J': 0\n",
        "    }\n",
        "\n",
        "    return H_dist[n]\n",
        "\n",
        "#Describe your graph here\n",
        "Graph_nodes = {\n",
        "\n",
        "    'A': [('B', 6), ('F', 3)],\n",
        "    'B': [('C', 3), ('D', 2)],\n",
        "    'C': [('D', 1), ('E', 5)],\n",
        "    'D': [('C', 1), ('E', 8)],\n",
        "    'E': [('I', 5), ('J', 5)],\n",
        "    'F': [('G', 1),('H', 7)] ,\n",
        "    'G': [('I', 3)],\n",
        "    'H': [('I', 2)],\n",
        "    'I': [('E', 5), ('J', 3)],\n",
        "\n",
        "}\n",
        "aStarAlgo('A', 'J')"
      ],
      "metadata": {
        "colab": {
          "base_uri": "https://localhost:8080/"
        },
        "id": "00l9TLcg9j7r",
        "outputId": "2916b4a4-680e-450e-c1ec-16bfb553e506"
      },
      "execution_count": null,
      "outputs": [
        {
          "output_type": "stream",
          "name": "stdout",
          "text": [
            "Path found: ['A', 'F', 'G', 'I', 'J']\n"
          ]
        },
        {
          "output_type": "execute_result",
          "data": {
            "text/plain": [
              "['A', 'F', 'G', 'I', 'J']"
            ]
          },
          "metadata": {},
          "execution_count": 1
        }
      ]
    },
    {
      "cell_type": "markdown",
      "source": [
        "4. Find-S Algorithm"
      ],
      "metadata": {
        "id": "ocDBJQM9AhAG"
      }
    },
    {
      "cell_type": "code",
      "source": [
        "import csv\n",
        "print(\"\\n The most general hypothesis :['?','?','?','?','?','?']\\n\")\n",
        "print(\"\\n The most specific hypothesis :['0','0','0','0','0','0']\\n\")\n",
        "\n",
        "\n",
        "a = []\n",
        "with open('enjoysport.csv', 'r') as csvFile:\n",
        "    reader = csv.reader(csvFile)\n",
        "    for row in reader:\n",
        "        a.append(row)\n",
        "        print(row)\n",
        "    csvFile.close()\n",
        "\n",
        "num_attributes = len(a[0]) - 1\n",
        "\n",
        "\n",
        "hypothesis = ['0'] * num_attributes\n",
        "print('Initial Value of the hypothesis: ')\n",
        "print(hypothesis)\n",
        "for j in range(0, num_attributes):\n",
        "    hypothesis[j] = a[1][j]\n",
        "print(hypothesis)\n",
        "\n",
        "print('\\nFind S: Finding Maximally specific hypothesis\\n')\n",
        "for i in range(1, len(a)):\n",
        "    if a[i][num_attributes] == 'yes':\n",
        "        for j in range(num_attributes):\n",
        "            if a[i][j] != hypothesis[j]:\n",
        "                hypothesis[j] = '?'\n",
        "            else:\n",
        "                hypothesis[j] = a[i][j]\n",
        "    print(\"For training example no :{0} the hypothesis is\".format(i), hypothesis)\n",
        "\n",
        "print(\"\\n The Maximally Specific Hypothesis for a given Training Examples:\\n\")\n",
        "print(hypothesis)\n"
      ],
      "metadata": {
        "colab": {
          "base_uri": "https://localhost:8080/"
        },
        "id": "TaJUfsy6AjWy",
        "outputId": "39dc2d0f-b56f-4eb2-a3eb-8bb232f69304"
      },
      "execution_count": null,
      "outputs": [
        {
          "output_type": "stream",
          "name": "stdout",
          "text": [
            "\n",
            " The most general hypothesis :['?','?','?','?','?','?']\n",
            "\n",
            "\n",
            " The most specific hypothesis :['0','0','0','0','0','0']\n",
            "\n",
            "['sky', 'airTemp', 'humidity', 'wind', 'water', 'forecast', 'enjoySport']\n",
            "['sunny', 'warm', 'normal', 'strong', 'warm', 'same', 'yes']\n",
            "['sunny', 'warm', 'high', 'strong', 'warm', 'same', 'yes']\n",
            "['rainy', 'cold', 'high', 'strong', 'warm', 'change', 'no']\n",
            "['sunny', 'warm', 'high', 'strong', 'cool', 'change', 'yes']\n",
            "Initial Value of the hypothesis: \n",
            "['0', '0', '0', '0', '0', '0']\n",
            "['sunny', 'warm', 'normal', 'strong', 'warm', 'same']\n",
            "\n",
            "Find S: Finding Maximally specific hypothesis\n",
            "\n",
            "For training example no :1 the hypothesis is ['sunny', 'warm', 'normal', 'strong', 'warm', 'same']\n",
            "For training example no :2 the hypothesis is ['sunny', 'warm', '?', 'strong', 'warm', 'same']\n",
            "For training example no :3 the hypothesis is ['sunny', 'warm', '?', 'strong', 'warm', 'same']\n",
            "For training example no :4 the hypothesis is ['sunny', 'warm', '?', 'strong', '?', '?']\n",
            "\n",
            " The Maximally Specific Hypothesis for a given Training Examples:\n",
            "\n",
            "['sunny', 'warm', '?', 'strong', '?', '?']\n"
          ]
        }
      ]
    },
    {
      "cell_type": "markdown",
      "source": [
        "5. Candidate Elimination Algorithm"
      ],
      "metadata": {
        "id": "DTzqXvH--T7v"
      }
    },
    {
      "cell_type": "code",
      "source": [
        "import csv\n",
        "\n",
        "with open(\"trainingexamples.csv\") as f:\n",
        "    csv_file = csv.reader(f)\n",
        "    data = list(csv_file)\n",
        "\n",
        "    specific = data[1][:-1]\n",
        "    general = [['?' for i in range(len(specific))] for j in range(len(specific))]\n",
        "\n",
        "    for i in data:\n",
        "        if i[-1] == \"Yes\":\n",
        "            for j in range(len(specific)):\n",
        "                if i[j] != specific[j]:\n",
        "                    specific[j] = \"?\"\n",
        "                    general[j][j] = \"?\"\n",
        "\n",
        "        elif i[-1] == \"No\":\n",
        "            for j in range(len(specific)):\n",
        "                if i[j] != specific[j]:\n",
        "                    general[j][j] = specific[j]\n",
        "                else:\n",
        "                    general[j][j] = \"?\"\n",
        "\n",
        "        print(\"\\nStep \" + str(data.index(i)+1) + \" of Candidate Elimination Algorithm\")\n",
        "        print(specific)\n",
        "        print(general)\n",
        "\n",
        "    gh = [] # gh = general Hypothesis\n",
        "    for i in general:\n",
        "        for j in i:\n",
        "            if j != '?':\n",
        "                gh.append(i)\n",
        "                break\n",
        "    print(\"\\nFinal Specific hypothesis:\\n\", specific)\n",
        "    print(\"\\nFinal General hypothesis:\\n\", gh)"
      ],
      "metadata": {
        "colab": {
          "base_uri": "https://localhost:8080/"
        },
        "id": "849wGh4h-XLA",
        "outputId": "a6a4e3e2-40e6-41ff-f2cf-6198c48b5863"
      },
      "execution_count": null,
      "outputs": [
        {
          "output_type": "stream",
          "name": "stdout",
          "text": [
            "\n",
            "Step 1 of Candidate Elimination Algorithm\n",
            "['Sunny', 'Warm', 'Normal', 'Strong', 'Warm', 'Same']\n",
            "[['?', '?', '?', '?', '?', '?'], ['?', '?', '?', '?', '?', '?'], ['?', '?', '?', '?', '?', '?'], ['?', '?', '?', '?', '?', '?'], ['?', '?', '?', '?', '?', '?'], ['?', '?', '?', '?', '?', '?']]\n",
            "\n",
            "Step 2 of Candidate Elimination Algorithm\n",
            "['Sunny', 'Warm', 'Normal', 'Strong', 'Warm', 'Same']\n",
            "[['?', '?', '?', '?', '?', '?'], ['?', '?', '?', '?', '?', '?'], ['?', '?', '?', '?', '?', '?'], ['?', '?', '?', '?', '?', '?'], ['?', '?', '?', '?', '?', '?'], ['?', '?', '?', '?', '?', '?']]\n",
            "\n",
            "Step 3 of Candidate Elimination Algorithm\n",
            "['Sunny', 'Warm', '?', 'Strong', 'Warm', 'Same']\n",
            "[['?', '?', '?', '?', '?', '?'], ['?', '?', '?', '?', '?', '?'], ['?', '?', '?', '?', '?', '?'], ['?', '?', '?', '?', '?', '?'], ['?', '?', '?', '?', '?', '?'], ['?', '?', '?', '?', '?', '?']]\n",
            "\n",
            "Step 4 of Candidate Elimination Algorithm\n",
            "['Sunny', 'Warm', '?', 'Strong', 'Warm', 'Same']\n",
            "[['Sunny', '?', '?', '?', '?', '?'], ['?', 'Warm', '?', '?', '?', '?'], ['?', '?', '?', '?', '?', '?'], ['?', '?', '?', '?', '?', '?'], ['?', '?', '?', '?', '?', '?'], ['?', '?', '?', '?', '?', 'Same']]\n",
            "\n",
            "Step 5 of Candidate Elimination Algorithm\n",
            "['Sunny', 'Warm', '?', 'Strong', '?', '?']\n",
            "[['Sunny', '?', '?', '?', '?', '?'], ['?', 'Warm', '?', '?', '?', '?'], ['?', '?', '?', '?', '?', '?'], ['?', '?', '?', '?', '?', '?'], ['?', '?', '?', '?', '?', '?'], ['?', '?', '?', '?', '?', '?']]\n",
            "\n",
            "Final Specific hypothesis:\n",
            " ['Sunny', 'Warm', '?', 'Strong', '?', '?']\n",
            "\n",
            "Final General hypothesis:\n",
            " [['Sunny', '?', '?', '?', '?', '?'], ['?', 'Warm', '?', '?', '?', '?']]\n"
          ]
        }
      ]
    },
    {
      "cell_type": "code",
      "source": [
        "l=[[1,2,3],[4,5,6]]\n",
        "print(l[1][:-1])"
      ],
      "metadata": {
        "colab": {
          "base_uri": "https://localhost:8080/"
        },
        "id": "y38puRJTtyGW",
        "outputId": "7941dbef-710f-4637-ae4a-ba37f3e4c11a"
      },
      "execution_count": 2,
      "outputs": [
        {
          "output_type": "stream",
          "name": "stdout",
          "text": [
            "[4, 5]\n"
          ]
        }
      ]
    },
    {
      "cell_type": "markdown",
      "source": [
        "6. ID3 Algorithm"
      ],
      "metadata": {
        "id": "Dyfbagni_Sv_"
      }
    },
    {
      "cell_type": "code",
      "source": [
        "from sklearn.datasets import load_iris\n",
        "from sklearn import tree\n",
        "from sklearn.metrics import accuracy_score\n",
        "from sklearn.model_selection import train_test_split\n",
        "import matplotlib.pyplot as plt\n",
        "\n",
        "iris = load_iris()\n",
        "X, y = iris.data, iris.target\n",
        "clf = tree.DecisionTreeClassifier()\n",
        "clf = clf.fit(X, y)\n",
        "tree.plot_tree(clf)\n",
        "plt.show()\n",
        "\n",
        "iris = load_iris()\n",
        "X, y = iris.data, iris.target\n",
        "\n",
        "\n",
        "X_train, X_test, y_train, y_test = train_test_split(X, y, test_size=0.2, random_state=42)\n",
        "\n",
        "\n",
        "clf = tree.DecisionTreeClassifier()\n",
        "clf = clf.fit(X_train, y_train)\n",
        "\n",
        "\n",
        "y_pred = clf.predict(X_test)\n",
        "\n",
        "\n",
        "accuracy = accuracy_score(y_test, y_pred,normalize=False)\n",
        "print(f\"Accuracy: {accuracy}\")\n"
      ],
      "metadata": {
        "colab": {
          "base_uri": "https://localhost:8080/",
          "height": 423
        },
        "id": "kyNSpdmh_U-p",
        "outputId": "90788e96-658f-4228-b6ba-f86850edfe58"
      },
      "execution_count": 8,
      "outputs": [
        {
          "output_type": "display_data",
          "data": {
            "text/plain": [
              "<Figure size 640x480 with 1 Axes>"
            ],
            "image/png": "[encoded data removed]"
          },
          "metadata": {}
        },
        {
          "output_type": "stream",
          "name": "stdout",
          "text": [
            "Accuracy: 30\n"
          ]
        }
      ]
    },
    {
      "cell_type": "markdown",
      "source": [
        "7. Backpropagation Algorithm"
      ],
      "metadata": {
        "id": "we9Dp2-7990n"
      }
    },
    {
      "cell_type": "code",
      "source": [
        "import numpy as np\n",
        "X = np.array(([2, 9], [1, 5], [3, 6]), dtype=float)\n",
        "y = np.array(([92], [86], [89]), dtype=float)\n",
        "X = X/np.amax(X,axis=0) # maximum of X array longitudinally\n",
        "y = y/100\n",
        "\n",
        "#Sigmoid Function\n",
        "def sigmoid (x):\n",
        "    return 1/(1 + np.exp(-x))\n",
        "\n",
        "#Derivative of Sigmoid Function\n",
        "def derivatives_sigmoid(x):\n",
        "    return x * (1 - x)\n",
        "\n",
        "#Variable initialization\n",
        "epoch=5000                #Setting training iterations\n",
        "lr=0.1                    #Setting learning rate\n",
        "inputlayer_neurons = 2    #number of features in data set\n",
        "hiddenlayer_neurons = 3   #number of hidden layers neurons\n",
        "output_neurons = 1        #number of neurons at output layer\n",
        "\n",
        "#weight and bias initialization\n",
        "wh=np.random.uniform(size=(inputlayer_neurons,hiddenlayer_neurons))\n",
        "bh=np.random.uniform(size=(1,hiddenlayer_neurons))\n",
        "wout=np.random.uniform(size=(hiddenlayer_neurons,output_neurons))\n",
        "bout=np.random.uniform(size=(1,output_neurons))\n",
        "\n",
        "\n",
        "#draws a random range of numbers uniformly of dim x*y\n",
        "for i in range(epoch):\n",
        "\n",
        "#Forward Propogation\n",
        "    hinp1=np.dot(X,wh)\n",
        "    hinp=hinp1 + bh\n",
        "    hlayer_act = sigmoid(hinp)\n",
        "    outinp1=np.dot(hlayer_act,wout)\n",
        "    outinp= outinp1+ bout\n",
        "    output = sigmoid(outinp)\n",
        "\n",
        "#Backpropagation\n",
        "    EO = y-output\n",
        "    outgrad = derivatives_sigmoid(output)\n",
        "    d_output = EO* outgrad\n",
        "    EH = d_output.dot(wout.T)\n",
        "\n",
        "#how much hidden layer wts contributed to error\n",
        "    hiddengrad = derivatives_sigmoid(hlayer_act)\n",
        "    d_hiddenlayer = EH * hiddengrad\n",
        "\n",
        "# dotproduct of nextlayererror and currentlayerop\n",
        "    wout += hlayer_act.T.dot(d_output) *lr\n",
        "    wh += X.T.dot(d_hiddenlayer) *lr\n",
        "\n",
        "\n",
        "print(\"Input: \\n\" + str(X))\n",
        "print(\"Actual Output: \\n\" + str(y))\n",
        "print(\"Predicted Output: \\n\" ,output)"
      ],
      "metadata": {
        "colab": {
          "base_uri": "https://localhost:8080/"
        },
        "id": "a306Ueuh-C0q",
        "outputId": "9b4d22ec-24d9-42ed-b2e9-22280585f923"
      },
      "execution_count": null,
      "outputs": [
        {
          "output_type": "stream",
          "name": "stdout",
          "text": [
            "Input: \n",
            "[[0.66666667 1.        ]\n",
            " [0.33333333 0.55555556]\n",
            " [1.         0.66666667]]\n",
            "Actual Output: \n",
            "[[0.92]\n",
            " [0.86]\n",
            " [0.89]]\n",
            "Predicted Output: \n",
            " [[0.89393655]\n",
            " [0.87995227]\n",
            " [0.896269  ]]\n"
          ]
        }
      ]
    },
    {
      "cell_type": "markdown",
      "source": [
        "8. Naive Bayesian Classifier"
      ],
      "metadata": {
        "id": "qL7pnpWaF4w8"
      }
    },
    {
      "cell_type": "code",
      "source": [
        "# import necessary libraries\n",
        "import pandas as pd\n",
        "from sklearn import tree\n",
        "from sklearn.preprocessing import LabelEncoder\n",
        "from sklearn.naive_bayes import GaussianNB\n",
        "from sklearn.metrics import accuracy_score\n",
        "from sklearn.model_selection import train_test_split\n",
        "\n",
        "# Load Data from CSV\n",
        "data = pd.read_csv('tennisdata.csv')\n",
        "print(\"The first 5 Values of data is :\\n\", data.head())\n",
        "\n",
        "# obtain train data and train output\n",
        "X = data.iloc[:, :-1]\n",
        "print(\"\\nThe First 5 values of the train data is\\n\", X.head())\n",
        "y = data.iloc[:, -1]\n",
        "print(\"\\nThe First 5 values of train output is\\n\", y.head())\n",
        "\n",
        "# convert them in numbers\n",
        "le_outlook = LabelEncoder()\n",
        "X.Outlook = le_outlook.fit_transform(X.Outlook)\n",
        "\n",
        "le_Temperature = LabelEncoder()\n",
        "X.Temperature = le_Temperature.fit_transform(X.Temperature)\n",
        "\n",
        "le_Humidity = LabelEncoder()\n",
        "X.Humidity = le_Humidity.fit_transform(X.Humidity)\n",
        "\n",
        "le_Windy = LabelEncoder()\n",
        "X.Windy = le_Windy.fit_transform(X.Windy)\n",
        "\n",
        "print(\"\\nNow the Train output is\\n\", X.head())\n",
        "\n",
        "le_PlayTennis = LabelEncoder()\n",
        "y = le_PlayTennis.fit_transform(y)\n",
        "print(\"\\nNow the Train output is\\n\",y)\n",
        "\n",
        "X_train, X_test, y_train, y_test = train_test_split(X,y, test_size = 0.20)\n",
        "\n",
        "classifier = GaussianNB()\n",
        "classifier.fit(X_train, y_train)\n",
        "\n",
        "\n",
        "print(\"Accuracy is:\", accuracy_score(classifier.predict(X_test), y_test))"
      ],
      "metadata": {
        "colab": {
          "base_uri": "https://localhost:8080/"
        },
        "id": "6hvkmT49F75L",
        "outputId": "85ff8562-8184-4009-acf6-1d4ae05d8475"
      },
      "execution_count": null,
      "outputs": [
        {
          "output_type": "stream",
          "name": "stdout",
          "text": [
            "The first 5 Values of data is :\n",
            "     Outlook Temperature Humidity   Windy PlayTennis\n",
            "0     Sunny         Hot     High    Weak         No\n",
            "1     Sunny         Hot     High  Strong         No\n",
            "2  Overcast         Hot     High    Weak        Yes\n",
            "3      Rain        Mild     High    Weak        Yes\n",
            "4      Rain        Cool   Normal    Weak        Yes\n",
            "\n",
            "The First 5 values of the train data is\n",
            "     Outlook Temperature Humidity   Windy\n",
            "0     Sunny         Hot     High    Weak\n",
            "1     Sunny         Hot     High  Strong\n",
            "2  Overcast         Hot     High    Weak\n",
            "3      Rain        Mild     High    Weak\n",
            "4      Rain        Cool   Normal    Weak\n",
            "\n",
            "The First 5 values of train output is\n",
            " 0     No\n",
            "1     No\n",
            "2    Yes\n",
            "3    Yes\n",
            "4    Yes\n",
            "Name: PlayTennis, dtype: object\n",
            "\n",
            "Now the Train output is\n",
            "    Outlook  Temperature  Humidity  Windy\n",
            "0        2            1         0      1\n",
            "1        2            1         0      0\n",
            "2        0            1         0      1\n",
            "3        1            2         0      1\n",
            "4        1            0         1      1\n",
            "\n",
            "Now the Train output is\n",
            " [0 0 1 1 1 0 1 0 1 1 1 1 1 0]\n",
            "Accuracy is: 0.3333333333333333\n"
          ]
        },
        {
          "output_type": "stream",
          "name": "stderr",
          "text": [
            "<ipython-input-17-59b95dbf5443>:18: SettingWithCopyWarning: \n",
            "A value is trying to be set on a copy of a slice from a DataFrame.\n",
            "Try using .loc[row_indexer,col_indexer] = value instead\n",
            "\n",
            "See the caveats in the documentation: https://pandas.pydata.org/pandas-docs/stable/user_guide/indexing.html#returning-a-view-versus-a-copy\n",
            "  X.Outlook = le_outlook.fit_transform(X.Outlook)\n",
            "<ipython-input-17-59b95dbf5443>:21: SettingWithCopyWarning: \n",
            "A value is trying to be set on a copy of a slice from a DataFrame.\n",
            "Try using .loc[row_indexer,col_indexer] = value instead\n",
            "\n",
            "See the caveats in the documentation: https://pandas.pydata.org/pandas-docs/stable/user_guide/indexing.html#returning-a-view-versus-a-copy\n",
            "  X.Temperature = le_Temperature.fit_transform(X.Temperature)\n",
            "<ipython-input-17-59b95dbf5443>:24: SettingWithCopyWarning: \n",
            "A value is trying to be set on a copy of a slice from a DataFrame.\n",
            "Try using .loc[row_indexer,col_indexer] = value instead\n",
            "\n",
            "See the caveats in the documentation: https://pandas.pydata.org/pandas-docs/stable/user_guide/indexing.html#returning-a-view-versus-a-copy\n",
            "  X.Humidity = le_Humidity.fit_transform(X.Humidity)\n",
            "<ipython-input-17-59b95dbf5443>:27: SettingWithCopyWarning: \n",
            "A value is trying to be set on a copy of a slice from a DataFrame.\n",
            "Try using .loc[row_indexer,col_indexer] = value instead\n",
            "\n",
            "See the caveats in the documentation: https://pandas.pydata.org/pandas-docs/stable/user_guide/indexing.html#returning-a-view-versus-a-copy\n",
            "  X.Windy = le_Windy.fit_transform(X.Windy)\n"
          ]
        }
      ]
    },
    {
      "cell_type": "markdown",
      "source": [
        "11. EM Algorithm"
      ],
      "metadata": {
        "id": "gZxpYO4Q-5n_"
      }
    },
    {
      "cell_type": "code",
      "source": [
        "import matplotlib.pyplot as plt\n",
        "from sklearn import datasets\n",
        "from sklearn.cluster import KMeans\n",
        "import pandas as pd\n",
        "import numpy as np\n",
        "from sklearn import preprocessing\n",
        "from sklearn.mixture import GaussianMixture\n",
        "# import some data to play with\n",
        "iris = datasets.load_iris()\n",
        "X = pd.DataFrame(iris.data)\n",
        "X.columns = ['Sepal_Length','Sepal_Width','Petal_Length','Petal_Width']\n",
        "y = pd.DataFrame(iris.target)\n",
        "y.columns = ['Targets']\n",
        "\n",
        "# Build the K Means Model\n",
        "model = KMeans(n_clusters=3)\n",
        "model.fit(X) # model.labels_ : Gives cluster no for which samples belongs to\n",
        "\n",
        "# # Visualise the clustering results\n",
        "plt.figure(figsize=(14,7))\n",
        "colormap = np.array(['red', 'lime', 'black'])\n",
        "\n",
        "# Plot the Original Classifications using Petal features\n",
        "plt.subplot(1, 3, 1)\n",
        "plt.scatter(X.Petal_Length, X.Petal_Width, c=colormap[y.Targets], s=40)\n",
        "plt.title('Real Clusters')\n",
        "plt.xlabel('Petal Length')\n",
        "plt.ylabel('Petal Width')\n",
        "\n",
        "# Plot the Models Classifications\n",
        "plt.subplot(1, 3, 2)\n",
        "plt.scatter(X.Petal_Length, X.Petal_Width, c=colormap[model.labels_], s=40)\n",
        "plt.title('K-Means Clustering')\n",
        "plt.xlabel('Petal Length')\n",
        "plt.ylabel('Petal Width')\n",
        "\n",
        "# General EM for GMM\n",
        "\n",
        "\n",
        "# transform your data such that its distribution will have a # mean value 0 and standard deviation of 1.\n",
        "scaler = preprocessing.StandardScaler()\n",
        "scaler.fit(X)\n",
        "xsa = scaler.transform(X)\n",
        "xs = pd.DataFrame(xsa, columns = X.columns)\n",
        "\n",
        "gmm = GaussianMixture(n_components=40)\n",
        "gmm.fit(xs)\n",
        "plt.subplot(1, 3, 3)\n",
        "plt.scatter(X.Petal_Length, X.Petal_Width, c=colormap[0], s=40)\n",
        "plt.title('GMM Clustering')\n",
        "plt.xlabel('Petal Length')\n",
        "plt.ylabel('Petal Width')\n",
        "\n",
        "print('Observation: The GMM using EM algorithm based clustering matched the true labels more closely than the Kmeans.')"
      ],
      "metadata": {
        "colab": {
          "base_uri": "https://localhost:8080/",
          "height": 551
        },
        "id": "jg_msWEd-7se",
        "outputId": "e0345ba6-633e-4489-832c-c232a7e31eda"
      },
      "execution_count": null,
      "outputs": [
        {
          "output_type": "stream",
          "name": "stderr",
          "text": [
            "/usr/local/lib/python3.10/dist-packages/sklearn/cluster/_kmeans.py:870: FutureWarning: The default value of `n_init` will change from 10 to 'auto' in 1.4. Set the value of `n_init` explicitly to suppress the warning\n",
            "  warnings.warn(\n"
          ]
        },
        {
          "output_type": "stream",
          "name": "stdout",
          "text": [
            "Observation: The GMM using EM algorithm based clustering matched the true labels more closely than the Kmeans.\n"
          ]
        },
        {
          "output_type": "display_data",
          "data": {
            "text/plain": [
              "<Figure size 1400x700 with 3 Axes>"
            ],
            "image/png": "[encoded data removed]"
          },
          "metadata": {}
        }
      ]
    },
    {
      "cell_type": "markdown",
      "source": [
        "12. k-nearest neighbour Algorithm"
      ],
      "metadata": {
        "id": "js_XRrUSGjrn"
      }
    },
    {
      "cell_type": "code",
      "source": [
        "from sklearn.model_selection import train_test_split\n",
        "from sklearn.neighbors import KNeighborsClassifier\n",
        "from sklearn import datasets\n",
        "iris=datasets.load_iris()\n",
        "print(\"Iris Data set loaded...\")\n",
        "x_train, x_test, y_train, y_test = train_test_split(iris.data,iris.target,test_size=0.1)\n",
        "#random_state=0\n",
        "for i in range(len(iris.target_names)):\n",
        "    print(\"Label\", i , \"-\",str(iris.target_names[i]))\n",
        "classifier = KNeighborsClassifier(n_neighbors=2)\n",
        "classifier.fit(x_train, y_train)\n",
        "y_pred=classifier.predict(x_test)\n",
        "print(\"Results of Classification using K-nn with K=1 \")\n",
        "for r in range(0,len(x_test)):\n",
        "    print(\" Sample:\", str(x_test[r]), \" Actual-label:\", str(y_test[r]),\" Predicted-label:\", str(y_pred[r]))\n",
        "\n",
        "print(\"Classification Accuracy :\" , classifier.score(x_test,y_test))"
      ],
      "metadata": {
        "colab": {
          "base_uri": "https://localhost:8080/"
        },
        "id": "oJwwEyCFGmyB",
        "outputId": "c4b0bd6f-90c1-46b1-c9ac-23ea7bc3f95f"
      },
      "execution_count": 3,
      "outputs": [
        {
          "output_type": "stream",
          "name": "stdout",
          "text": [
            "Iris Data set loaded...\n",
            "Label 0 - setosa\n",
            "Label 1 - versicolor\n",
            "Label 2 - virginica\n",
            "Results of Classification using K-nn with K=1 \n",
            " Sample: [4.4 3.2 1.3 0.2]  Actual-label: 0  Predicted-label: 0\n",
            " Sample: [7.1 3.  5.9 2.1]  Actual-label: 2  Predicted-label: 2\n",
            " Sample: [6.1 3.  4.6 1.4]  Actual-label: 1  Predicted-label: 1\n",
            " Sample: [5.8 2.6 4.  1.2]  Actual-label: 1  Predicted-label: 1\n",
            " Sample: [5.6 2.5 3.9 1.1]  Actual-label: 1  Predicted-label: 1\n",
            " Sample: [6.3 2.3 4.4 1.3]  Actual-label: 1  Predicted-label: 1\n",
            " Sample: [5.7 2.5 5.  2. ]  Actual-label: 2  Predicted-label: 2\n",
            " Sample: [6.4 3.2 5.3 2.3]  Actual-label: 2  Predicted-label: 2\n",
            " Sample: [5.4 3.4 1.5 0.4]  Actual-label: 0  Predicted-label: 0\n",
            " Sample: [6.4 2.7 5.3 1.9]  Actual-label: 2  Predicted-label: 2\n",
            " Sample: [4.7 3.2 1.6 0.2]  Actual-label: 0  Predicted-label: 0\n",
            " Sample: [5.5 3.5 1.3 0.2]  Actual-label: 0  Predicted-label: 0\n",
            " Sample: [5.8 2.7 3.9 1.2]  Actual-label: 1  Predicted-label: 1\n",
            " Sample: [5.  3.5 1.6 0.6]  Actual-label: 0  Predicted-label: 0\n",
            " Sample: [5.4 3.9 1.7 0.4]  Actual-label: 0  Predicted-label: 0\n",
            "Classification Accuracy : 1.0\n"
          ]
        }
      ]
    },
    {
      "cell_type": "markdown",
      "source": [
        "13. Regression"
      ],
      "metadata": {
        "id": "l92PNCB9GzPa"
      }
    },
    {
      "cell_type": "code",
      "source": [
        "\"\"\"Implement the non-parametric Locally Weighted Regression algorithm in order to fit data point’s .Select\n",
        "appropriate data set for your experiment and draw graphs \"\"\"\n",
        "\n",
        "from math import ceil\n",
        "import numpy as np\n",
        "from scipy import linalg\n",
        "import matplotlib.pyplot as plt\n",
        "import math\n",
        "def lowess(x, y, f, iterations):\n",
        "    n = len(x)\n",
        "    r = int(ceil(f * n))\n",
        "    h = [np.sort(np.abs(x - x[i]))[r] for i in range(n)]\n",
        "    w = np.clip(np.abs((x[:, None] - x[None, :]) / h), 0.0, 1.0)\n",
        "    w = (1 - w ** 3) ** 3\n",
        "    yest = np.zeros(n)\n",
        "    delta = np.ones(n)\n",
        "    for iteration in range(iterations):\n",
        "        for i in range(n):\n",
        "            weights = delta * w[:, i]\n",
        "            b = np.array([np.sum(weights * y), np.sum(weights * y * x)])\n",
        "            A = np.array([[np.sum(weights), np.sum(weights * x)], [np.sum(weights * x), np.sum(weights * x * x)]])\n",
        "            beta = linalg.solve(A, b)\n",
        "            yest[i] = beta[0] + beta[1] * x[i]\n",
        "\n",
        "        residuals = y - yest\n",
        "        s = np.median(np.abs(residuals))\n",
        "        delta = np.clip(residuals / (6.0 * s), -1, 1)\n",
        "        delta = (1 - delta ** 2) ** 2\n",
        "\n",
        "    return yest\n",
        "\n",
        "\n",
        "\n",
        "\n",
        "n = 100\n",
        "x = np.linspace(0, 2 * math.pi, n)\n",
        "y = np.sin(x) + 0.3 * np.random.randn(n)\n",
        "f = 0.25\n",
        "iterations = 3\n",
        "yest = lowess(x, y, f, iterations)\n",
        "\n",
        "\n",
        "\n",
        "plt.plot(x, y, \"r.\")\n",
        "plt.show()\n",
        "plt.plot(x, yest, \"b-\")\n",
        "plt.show()"
      ],
      "metadata": {
        "colab": {
          "base_uri": "https://localhost:8080/",
          "height": 843
        },
        "id": "wuycWHdmy-a1",
        "outputId": "cb8ff64e-193f-4d06-dfb6-43dd87119912"
      },
      "execution_count": 5,
      "outputs": [
        {
          "output_type": "display_data",
          "data": {
            "text/plain": [
              "<Figure size 640x480 with 1 Axes>"
            ],
            "image/png": "[encoded data removed]"
          },
          "metadata": {}
        },
        {
          "output_type": "display_data",
          "data": {
            "text/plain": [
              "<Figure size 640x480 with 1 Axes>"
            ],
            "image/png": "[encoded data removed]"
          },
          "metadata": {}
        }
      ]
    },
    {
      "cell_type": "markdown",
      "source": [
        "1. BFS"
      ],
      "metadata": {
        "id": "MB5WuX2qJ9KT"
      }
    },
    {
      "cell_type": "code",
      "source": [
        "graph = {\n",
        "  '5' : ['3','7'],\n",
        "  '3' : ['2', '4'],\n",
        "  '7' : ['8'],\n",
        "  '2' : [],\n",
        "  '4' : ['8'],\n",
        "  '8' : []\n",
        "}\n",
        "\n",
        "visited = [] # List for visited nodes.\n",
        "queue = []     #Initialize a queue\n",
        "\n",
        "def bfs(visited, graph, node): #function for BFS\n",
        "  visited.append(node)\n",
        "  queue.append(node)\n",
        "\n",
        "  while queue:          # Creating loop to visit each node\n",
        "    m = queue.pop(0)\n",
        "    print (m, end = \" \")\n",
        "\n",
        "    for neighbour in graph[m]:\n",
        "      if neighbour not in visited:\n",
        "        visited.append(neighbour)\n",
        "        queue.append(neighbour)\n",
        "\n",
        "# Driver Code\n",
        "print(\"Following is the Breadth-First Search\")\n",
        "bfs(visited, graph, '5')"
      ],
      "metadata": {
        "colab": {
          "base_uri": "https://localhost:8080/"
        },
        "id": "Q0gsMBe_J_ii",
        "outputId": "65aadf47-7ba8-46f7-edc2-13e0e9f8ed37"
      },
      "execution_count": null,
      "outputs": [
        {
          "output_type": "stream",
          "name": "stdout",
          "text": [
            "Following is the Breadth-First Search\n",
            "5 3 7 2 4 8 "
          ]
        }
      ]
    },
    {
      "cell_type": "markdown",
      "source": [
        "1. DFS"
      ],
      "metadata": {
        "id": "je_XLdRnKQ47"
      }
    },
    {
      "cell_type": "code",
      "source": [
        "# Using a Python dictionary to act as an adjacency list\n",
        "graph = {\n",
        "  '5' : ['3','7'],\n",
        "  '3' : ['2', '4'],\n",
        "  '7' : ['8'],\n",
        "  '2' : [],\n",
        "  '4' : ['8'],\n",
        "  '8' : []\n",
        "}\n",
        "\n",
        "visited = set() # Set to keep track of visited nodes of graph.\n",
        "\n",
        "def dfs(visited, graph, node):  #function for dfs\n",
        "    if node not in visited:\n",
        "        print (node)\n",
        "        visited.add(node)\n",
        "        for neighbour in graph[node]:\n",
        "            dfs(visited, graph, neighbour)\n",
        "\n",
        "# Driver Code\n",
        "print(\"Following is the Depth-First Search\")\n",
        "dfs(visited, graph, '5')"
      ],
      "metadata": {
        "colab": {
          "base_uri": "https://localhost:8080/"
        },
        "id": "oJMLAlvoKSNV",
        "outputId": "5f27f18d-0400-4d3e-a136-73813fb98eaf"
      },
      "execution_count": null,
      "outputs": [
        {
          "output_type": "stream",
          "name": "stdout",
          "text": [
            "Following is the Depth-First Search\n",
            "5\n",
            "3\n",
            "2\n",
            "4\n",
            "8\n",
            "7\n"
          ]
        }
      ]
    },
    {
      "cell_type": "markdown",
      "source": [
        "2. DLS"
      ],
      "metadata": {
        "id": "yE5jJgWhK4ME"
      }
    },
    {
      "cell_type": "code",
      "source": [
        "graph = {\n",
        "    'A':['B','C'],\n",
        "    'B':['D','E'],\n",
        "    'C':['F','G'],\n",
        "    'D':['H','I'],\n",
        "    'E':['J','K'],\n",
        "    'F':['L','M'],\n",
        "    'G':['N','O'],\n",
        "    'H':[],\n",
        "    'I':[],\n",
        "    'J':[],\n",
        "    'K':[],\n",
        "    'L':[],\n",
        "    'M':[],\n",
        "    'N':[],\n",
        "    'O':[]\n",
        "}\n",
        "\n",
        "def DLS(start,goal,path,level,maxD):\n",
        "  print('\\nCurrent level-->',level)\n",
        "  print('Goal node testing for',start)\n",
        "  path.append(start)\n",
        "  if start == goal:\n",
        "    print(\"Goal test successful\")\n",
        "    return path\n",
        "  print('Goal node testing failed')\n",
        "  if level==maxD:\n",
        "    return False\n",
        "  print('\\nExpanding the current node',start)\n",
        "  for child in graph[start]:\n",
        "    if DLS(child,goal,path,level+1,maxD):\n",
        "      return path\n",
        "    path.pop()\n",
        "  return False\n",
        "\n",
        "\n",
        "\n",
        "start = 'A'\n",
        "goal = input('Enter the goal node:-')\n",
        "maxD = int(input(\"Enter the maximum depth limit:-\"))\n",
        "print()\n",
        "path = list()\n",
        "res = DLS(start,goal,path,0,maxD)\n",
        "if(res):\n",
        "    print(\"Path to goal node available\")\n",
        "    print(\"Path\",path)\n",
        "else:\n",
        "    print(\"No path available for the goal node in given depth limit\")"
      ],
      "metadata": {
        "colab": {
          "base_uri": "https://localhost:8080/"
        },
        "id": "40rfF4KHK5az",
        "outputId": "0fdde36e-2244-4549-c303-2edb139a9b3f"
      },
      "execution_count": null,
      "outputs": [
        {
          "output_type": "stream",
          "name": "stdout",
          "text": [
            "Enter the goal node:-F\n",
            "Enter the maximum depth limit:-3\n",
            "\n",
            "\n",
            "Current level--> 0\n",
            "Goal node testing for A\n",
            "Goal node testing failed\n",
            "\n",
            "Expanding the current node A\n",
            "\n",
            "Current level--> 1\n",
            "Goal node testing for B\n",
            "Goal node testing failed\n",
            "\n",
            "Expanding the current node B\n",
            "\n",
            "Current level--> 2\n",
            "Goal node testing for D\n",
            "Goal node testing failed\n",
            "\n",
            "Expanding the current node D\n",
            "\n",
            "Current level--> 3\n",
            "Goal node testing for H\n",
            "Goal node testing failed\n",
            "\n",
            "Current level--> 3\n",
            "Goal node testing for I\n",
            "Goal node testing failed\n",
            "\n",
            "Current level--> 2\n",
            "Goal node testing for E\n",
            "Goal node testing failed\n",
            "\n",
            "Expanding the current node E\n",
            "\n",
            "Current level--> 3\n",
            "Goal node testing for J\n",
            "Goal node testing failed\n",
            "\n",
            "Current level--> 3\n",
            "Goal node testing for K\n",
            "Goal node testing failed\n",
            "\n",
            "Current level--> 1\n",
            "Goal node testing for C\n",
            "Goal node testing failed\n",
            "\n",
            "Expanding the current node C\n",
            "\n",
            "Current level--> 2\n",
            "Goal node testing for F\n",
            "Goal test successful\n",
            "Path to goal node available\n",
            "Path ['A', 'C', 'F']\n"
          ]
        }
      ]
    },
    {
      "cell_type": "markdown",
      "source": [
        "2. IDDFS"
      ],
      "metadata": {
        "id": "liZjeKl9NXoi"
      }
    },
    {
      "cell_type": "code",
      "source": [
        "graph = {\n",
        "    'A': ['B', 'C'],\n",
        "    'B': ['D','E'],\n",
        "    \"C\": ['G'],\n",
        "    'D': [],\n",
        "    'E': ['F'],\n",
        "    'G': [],\n",
        "    'F':[]\n",
        "}\n",
        "\n",
        "path = list()\n",
        "\n",
        "def DFS(currentNode,destination,graph,maxDepth,curList):\n",
        "    print(\"Checking for destination\",currentNode)\n",
        "    curList.append(currentNode)\n",
        "    if currentNode==destination:\n",
        "        return True\n",
        "    if maxDepth<=0:\n",
        "        path.append(curList)\n",
        "        return False\n",
        "    for node in graph[currentNode]:\n",
        "        if DFS(node,destination,graph,maxDepth-1,curList):\n",
        "            return True\n",
        "        else:\n",
        "            curList.pop()\n",
        "    return False\n",
        "\n",
        "def iterativeDDFS(currentNode,destination,graph,maxDepth):\n",
        "    for i in range(maxDepth):\n",
        "        curList = list()\n",
        "        if DFS(currentNode,destination,graph,i,curList):\n",
        "            return True\n",
        "    return False\n",
        "\n",
        "if not iterativeDDFS('A','E',graph,4):\n",
        "    print(\"Path is not available\")\n",
        "else:\n",
        "    print(\"A path exists\")\n",
        "    print(path.pop())"
      ],
      "metadata": {
        "colab": {
          "base_uri": "https://localhost:8080/"
        },
        "id": "CThzPzI3NZXj",
        "outputId": "19bd68bd-55b8-475e-f783-2b31f79ed9e8"
      },
      "execution_count": null,
      "outputs": [
        {
          "output_type": "stream",
          "name": "stdout",
          "text": [
            "Checking for destination A\n",
            "Checking for destination A\n",
            "Checking for destination B\n",
            "Checking for destination C\n",
            "Checking for destination A\n",
            "Checking for destination B\n",
            "Checking for destination D\n",
            "Checking for destination E\n",
            "A path exists\n",
            "['A', 'B', 'E']\n"
          ]
        }
      ]
    },
    {
      "cell_type": "markdown",
      "source": [],
      "metadata": {
        "id": "Tw4954avJ2_5"
      }
    }
  ]
}